{
 "cells": [
  {
   "cell_type": "code",
   "execution_count": 1,
   "id": "b58ebb1d-2416-461a-9aca-b7cb2ab05c6e",
   "metadata": {
    "scrolled": true
   },
   "outputs": [
    {
     "name": "stdout",
     "output_type": "stream",
     "text": [
      "Requirement already satisfied: cohere in /Users/samitkapadia/Desktop/Fall23/MED277/med277/lib/python3.11/site-packages (from -r requirements.txt (line 1)) (4.37)\n",
      "Requirement already satisfied: langchain==0.0.292 in /Users/samitkapadia/Desktop/Fall23/MED277/med277/lib/python3.11/site-packages (from -r requirements.txt (line 2)) (0.0.292)\n",
      "Requirement already satisfied: openai==0.28.0 in /Users/samitkapadia/Desktop/Fall23/MED277/med277/lib/python3.11/site-packages (from -r requirements.txt (line 3)) (0.28.0)\n",
      "Requirement already satisfied: datasets==2.10.1 in /Users/samitkapadia/Desktop/Fall23/MED277/med277/lib/python3.11/site-packages (from -r requirements.txt (line 4)) (2.10.1)\n",
      "Requirement already satisfied: pinecone-client==2.2.4 in /Users/samitkapadia/Desktop/Fall23/MED277/med277/lib/python3.11/site-packages (from -r requirements.txt (line 5)) (2.2.4)\n",
      "Requirement already satisfied: tiktoken==0.5.1 in /Users/samitkapadia/Desktop/Fall23/MED277/med277/lib/python3.11/site-packages (from -r requirements.txt (line 6)) (0.5.1)\n",
      "Requirement already satisfied: python-dotenv in /Users/samitkapadia/Desktop/Fall23/MED277/med277/lib/python3.11/site-packages (from -r requirements.txt (line 7)) (1.0.0)\n",
      "Requirement already satisfied: PyYAML>=5.3 in /Users/samitkapadia/Desktop/Fall23/MED277/med277/lib/python3.11/site-packages (from langchain==0.0.292->-r requirements.txt (line 2)) (6.0)\n",
      "Requirement already satisfied: SQLAlchemy<3,>=1.4 in /Users/samitkapadia/Desktop/Fall23/MED277/med277/lib/python3.11/site-packages (from langchain==0.0.292->-r requirements.txt (line 2)) (2.0.23)\n",
      "Requirement already satisfied: aiohttp<4.0.0,>=3.8.3 in /Users/samitkapadia/Desktop/Fall23/MED277/med277/lib/python3.11/site-packages (from langchain==0.0.292->-r requirements.txt (line 2)) (3.9.1)\n",
      "Requirement already satisfied: dataclasses-json<0.6.0,>=0.5.7 in /Users/samitkapadia/Desktop/Fall23/MED277/med277/lib/python3.11/site-packages (from langchain==0.0.292->-r requirements.txt (line 2)) (0.5.14)\n",
      "Requirement already satisfied: langsmith<0.1.0,>=0.0.21 in /Users/samitkapadia/Desktop/Fall23/MED277/med277/lib/python3.11/site-packages (from langchain==0.0.292->-r requirements.txt (line 2)) (0.0.69)\n",
      "Requirement already satisfied: numexpr<3.0.0,>=2.8.4 in /Users/samitkapadia/Desktop/Fall23/MED277/med277/lib/python3.11/site-packages (from langchain==0.0.292->-r requirements.txt (line 2)) (2.8.7)\n",
      "Requirement already satisfied: numpy<2,>=1 in /Users/samitkapadia/Desktop/Fall23/MED277/med277/lib/python3.11/site-packages (from langchain==0.0.292->-r requirements.txt (line 2)) (1.26.1)\n",
      "Requirement already satisfied: pydantic<3,>=1 in /Users/samitkapadia/Desktop/Fall23/MED277/med277/lib/python3.11/site-packages (from langchain==0.0.292->-r requirements.txt (line 2)) (1.10.13)\n",
      "Requirement already satisfied: requests<3,>=2 in /Users/samitkapadia/Desktop/Fall23/MED277/med277/lib/python3.11/site-packages (from langchain==0.0.292->-r requirements.txt (line 2)) (2.31.0)\n",
      "Requirement already satisfied: tenacity<9.0.0,>=8.1.0 in /Users/samitkapadia/Desktop/Fall23/MED277/med277/lib/python3.11/site-packages (from langchain==0.0.292->-r requirements.txt (line 2)) (8.2.3)\n",
      "Requirement already satisfied: tqdm in /Users/samitkapadia/Desktop/Fall23/MED277/med277/lib/python3.11/site-packages (from openai==0.28.0->-r requirements.txt (line 3)) (4.66.1)\n",
      "Requirement already satisfied: pyarrow>=6.0.0 in /Users/samitkapadia/Desktop/Fall23/MED277/med277/lib/python3.11/site-packages (from datasets==2.10.1->-r requirements.txt (line 4)) (14.0.1)\n",
      "Requirement already satisfied: dill<0.3.7,>=0.3.0 in /Users/samitkapadia/Desktop/Fall23/MED277/med277/lib/python3.11/site-packages (from datasets==2.10.1->-r requirements.txt (line 4)) (0.3.6)\n",
      "Requirement already satisfied: pandas in /Users/samitkapadia/Desktop/Fall23/MED277/med277/lib/python3.11/site-packages (from datasets==2.10.1->-r requirements.txt (line 4)) (2.1.2)\n",
      "Requirement already satisfied: xxhash in /Users/samitkapadia/Desktop/Fall23/MED277/med277/lib/python3.11/site-packages (from datasets==2.10.1->-r requirements.txt (line 4)) (3.4.1)\n",
      "Requirement already satisfied: multiprocess in /Users/samitkapadia/Desktop/Fall23/MED277/med277/lib/python3.11/site-packages (from datasets==2.10.1->-r requirements.txt (line 4)) (0.70.14)\n",
      "Requirement already satisfied: fsspec>=2021.11.1 in /Users/samitkapadia/Desktop/Fall23/MED277/med277/lib/python3.11/site-packages (from fsspec[http]>=2021.11.1->datasets==2.10.1->-r requirements.txt (line 4)) (2023.10.0)\n",
      "Requirement already satisfied: huggingface-hub<1.0.0,>=0.2.0 in /Users/samitkapadia/Desktop/Fall23/MED277/med277/lib/python3.11/site-packages (from datasets==2.10.1->-r requirements.txt (line 4)) (0.19.4)\n",
      "Requirement already satisfied: packaging in /Users/samitkapadia/Desktop/Fall23/MED277/med277/lib/python3.11/site-packages (from datasets==2.10.1->-r requirements.txt (line 4)) (23.2)\n",
      "Requirement already satisfied: responses<0.19 in /Users/samitkapadia/Desktop/Fall23/MED277/med277/lib/python3.11/site-packages (from datasets==2.10.1->-r requirements.txt (line 4)) (0.18.0)\n",
      "Requirement already satisfied: loguru>=0.5.0 in /Users/samitkapadia/Desktop/Fall23/MED277/med277/lib/python3.11/site-packages (from pinecone-client==2.2.4->-r requirements.txt (line 5)) (0.7.2)\n",
      "Requirement already satisfied: typing-extensions>=3.7.4 in /Users/samitkapadia/Desktop/Fall23/MED277/med277/lib/python3.11/site-packages (from pinecone-client==2.2.4->-r requirements.txt (line 5)) (4.8.0)\n",
      "Requirement already satisfied: dnspython>=2.0.0 in /Users/samitkapadia/Desktop/Fall23/MED277/med277/lib/python3.11/site-packages (from pinecone-client==2.2.4->-r requirements.txt (line 5)) (2.4.2)\n",
      "Requirement already satisfied: python-dateutil>=2.5.3 in /Users/samitkapadia/Desktop/Fall23/MED277/med277/lib/python3.11/site-packages (from pinecone-client==2.2.4->-r requirements.txt (line 5)) (2.8.2)\n",
      "Requirement already satisfied: urllib3>=1.21.1 in /Users/samitkapadia/Desktop/Fall23/MED277/med277/lib/python3.11/site-packages (from pinecone-client==2.2.4->-r requirements.txt (line 5)) (2.0.7)\n",
      "Requirement already satisfied: regex>=2022.1.18 in /Users/samitkapadia/Desktop/Fall23/MED277/med277/lib/python3.11/site-packages (from tiktoken==0.5.1->-r requirements.txt (line 6)) (2023.10.3)\n",
      "Requirement already satisfied: backoff<3.0,>=2.0 in /Users/samitkapadia/Desktop/Fall23/MED277/med277/lib/python3.11/site-packages (from cohere->-r requirements.txt (line 1)) (2.2.1)\n",
      "Requirement already satisfied: fastavro<2.0,>=1.8 in /Users/samitkapadia/Desktop/Fall23/MED277/med277/lib/python3.11/site-packages (from cohere->-r requirements.txt (line 1)) (1.9.0)\n",
      "Requirement already satisfied: importlib_metadata<7.0,>=6.0 in /Users/samitkapadia/Desktop/Fall23/MED277/med277/lib/python3.11/site-packages (from cohere->-r requirements.txt (line 1)) (6.11.0)\n",
      "Requirement already satisfied: attrs>=17.3.0 in /Users/samitkapadia/Desktop/Fall23/MED277/med277/lib/python3.11/site-packages (from aiohttp<4.0.0,>=3.8.3->langchain==0.0.292->-r requirements.txt (line 2)) (23.1.0)\n",
      "Requirement already satisfied: multidict<7.0,>=4.5 in /Users/samitkapadia/Desktop/Fall23/MED277/med277/lib/python3.11/site-packages (from aiohttp<4.0.0,>=3.8.3->langchain==0.0.292->-r requirements.txt (line 2)) (6.0.4)\n",
      "Requirement already satisfied: yarl<2.0,>=1.0 in /Users/samitkapadia/Desktop/Fall23/MED277/med277/lib/python3.11/site-packages (from aiohttp<4.0.0,>=3.8.3->langchain==0.0.292->-r requirements.txt (line 2)) (1.9.3)\n",
      "Requirement already satisfied: frozenlist>=1.1.1 in /Users/samitkapadia/Desktop/Fall23/MED277/med277/lib/python3.11/site-packages (from aiohttp<4.0.0,>=3.8.3->langchain==0.0.292->-r requirements.txt (line 2)) (1.4.0)\n",
      "Requirement already satisfied: aiosignal>=1.1.2 in /Users/samitkapadia/Desktop/Fall23/MED277/med277/lib/python3.11/site-packages (from aiohttp<4.0.0,>=3.8.3->langchain==0.0.292->-r requirements.txt (line 2)) (1.3.1)\n",
      "Requirement already satisfied: marshmallow<4.0.0,>=3.18.0 in /Users/samitkapadia/Desktop/Fall23/MED277/med277/lib/python3.11/site-packages (from dataclasses-json<0.6.0,>=0.5.7->langchain==0.0.292->-r requirements.txt (line 2)) (3.20.1)\n",
      "Requirement already satisfied: typing-inspect<1,>=0.4.0 in /Users/samitkapadia/Desktop/Fall23/MED277/med277/lib/python3.11/site-packages (from dataclasses-json<0.6.0,>=0.5.7->langchain==0.0.292->-r requirements.txt (line 2)) (0.9.0)\n",
      "Requirement already satisfied: filelock in /Users/samitkapadia/Desktop/Fall23/MED277/med277/lib/python3.11/site-packages (from huggingface-hub<1.0.0,>=0.2.0->datasets==2.10.1->-r requirements.txt (line 4)) (3.13.1)\n",
      "Requirement already satisfied: zipp>=0.5 in /Users/samitkapadia/Desktop/Fall23/MED277/med277/lib/python3.11/site-packages (from importlib_metadata<7.0,>=6.0->cohere->-r requirements.txt (line 1)) (3.17.0)\n",
      "Requirement already satisfied: six>=1.5 in /Users/samitkapadia/Desktop/Fall23/MED277/med277/lib/python3.11/site-packages (from python-dateutil>=2.5.3->pinecone-client==2.2.4->-r requirements.txt (line 5)) (1.16.0)\n",
      "Requirement already satisfied: charset-normalizer<4,>=2 in /Users/samitkapadia/Desktop/Fall23/MED277/med277/lib/python3.11/site-packages (from requests<3,>=2->langchain==0.0.292->-r requirements.txt (line 2)) (3.3.2)\n",
      "Requirement already satisfied: idna<4,>=2.5 in /Users/samitkapadia/Desktop/Fall23/MED277/med277/lib/python3.11/site-packages (from requests<3,>=2->langchain==0.0.292->-r requirements.txt (line 2)) (3.4)\n",
      "Requirement already satisfied: certifi>=2017.4.17 in /Users/samitkapadia/Desktop/Fall23/MED277/med277/lib/python3.11/site-packages (from requests<3,>=2->langchain==0.0.292->-r requirements.txt (line 2)) (2023.7.22)\n",
      "Requirement already satisfied: pytz>=2020.1 in /Users/samitkapadia/Desktop/Fall23/MED277/med277/lib/python3.11/site-packages (from pandas->datasets==2.10.1->-r requirements.txt (line 4)) (2023.3.post1)\n",
      "Requirement already satisfied: tzdata>=2022.1 in /Users/samitkapadia/Desktop/Fall23/MED277/med277/lib/python3.11/site-packages (from pandas->datasets==2.10.1->-r requirements.txt (line 4)) (2023.3)\n",
      "Requirement already satisfied: mypy-extensions>=0.3.0 in /Users/samitkapadia/Desktop/Fall23/MED277/med277/lib/python3.11/site-packages (from typing-inspect<1,>=0.4.0->dataclasses-json<0.6.0,>=0.5.7->langchain==0.0.292->-r requirements.txt (line 2)) (1.0.0)\n"
     ]
    }
   ],
   "source": [
    "!pip install -r requirements.txt"
   ]
  },
  {
   "cell_type": "code",
   "execution_count": 2,
   "id": "c6444440-f347-4463-954b-f87bc98e3ea3",
   "metadata": {},
   "outputs": [],
   "source": [
    "import os\n",
    "from langchain.chat_models import ChatOpenAI\n",
    "from dotenv import load_dotenv"
   ]
  },
  {
   "cell_type": "code",
   "execution_count": 3,
   "id": "3c8c7a9d-9d2b-4800-970d-c5fa5f4ea86a",
   "metadata": {},
   "outputs": [
    {
     "data": {
      "text/plain": [
       "True"
      ]
     },
     "execution_count": 3,
     "metadata": {},
     "output_type": "execute_result"
    }
   ],
   "source": [
    "load_dotenv()"
   ]
  },
  {
   "cell_type": "code",
   "execution_count": 4,
   "id": "0c8d6aae-1312-44a3-bb48-72b35f4735f5",
   "metadata": {},
   "outputs": [],
   "source": [
    "chat = ChatOpenAI(\n",
    "    openai_api_key=os.environ[\"OPENAI_API_KEY\"],\n",
    "    model='gpt-3.5-turbo'\n",
    ")"
   ]
  },
  {
   "cell_type": "code",
   "execution_count": 5,
   "id": "f76f449b-e5e7-4259-b1fe-37b8ca406600",
   "metadata": {},
   "outputs": [],
   "source": [
    "from langchain.schema import (\n",
    "    SystemMessage,\n",
    "    HumanMessage,\n",
    "    AIMessage\n",
    ")\n",
    "\n",
    "messages = [\n",
    "    SystemMessage(content=\"You are a helpful assistant.\"),\n",
    "    HumanMessage(content=\"Hi AI, how are you today?\"),\n",
    "    AIMessage(content=\"I'm great thank you. How can I help you?\"),\n",
    "    HumanMessage(content=\"What is MEDITRON?\")\n",
    "]"
   ]
  },
  {
   "cell_type": "code",
   "execution_count": 6,
   "id": "04323292-d6b8-4db4-8aae-e8dd749c73d2",
   "metadata": {},
   "outputs": [
    {
     "name": "stdout",
     "output_type": "stream",
     "text": [
      "Meditron is a fictional character that has appeared in various forms of media, including movies, video games, and comics. In some interpretations, Meditron is depicted as a powerful, advanced artificial intelligence (AI) entity that possesses vast knowledge and abilities. However, it is important to note that Meditron is not a real AI or technology in the real world.\n"
     ]
    }
   ],
   "source": [
    "res = chat(messages)\n",
    "print(res.content)"
   ]
  },
  {
   "cell_type": "code",
   "execution_count": 7,
   "id": "975ff4cc-0b1d-4811-9ce4-54f8f39af556",
   "metadata": {},
   "outputs": [
    {
     "name": "stdout",
     "output_type": "stream",
     "text": [
      "Requirement already satisfied: PyPDF2 in /Users/samitkapadia/Desktop/Fall23/MED277/med277/lib/python3.11/site-packages (3.0.1)\n"
     ]
    }
   ],
   "source": [
    "!pip install PyPDF2"
   ]
  },
  {
   "cell_type": "code",
   "execution_count": 8,
   "id": "9647d3ed-af5d-4a11-ae90-16077f48ea3a",
   "metadata": {},
   "outputs": [
    {
     "name": "stdout",
     "output_type": "stream",
     "text": [
      "['MEDITRON -70B: Scaling Medical Pretraining for\\nLarge Language Models\\nZeming Chen1Alejandro Hernández Cano1‡Angelika Romanou1‡Antoine Bonnet1‡\\nKyle Matoba1,2‡Francesco Salvi1Matteo Pagliardini1Simin Fan1Andreas Köpf3\\nAmirkeivan Mohtashami1Alexandre Sallinen1Alireza Sakhaeirad1Vinitra Swamy1\\nIgor Krawczuk1Deniz Bayazit1Axel Marmet1Syrielle Montariol1\\nMary-Anne Hartley1,4Martin Jaggi1†Antoine Bosselut1†\\n1EPFL2Idiap Research Institute3Open Assistant4Yale\\n{zeming.chen, antoine.bosselut}@epfl.ch\\nAbstract\\nLarge language models (LLMs) can potentially democratize access to medical\\nknowledge.', 'While many efforts have been made to harness and improve LLMs’\\nmedical knowledge and reasoning capacities, the resulting models are either closed-\\nsource (e.g., PaLM, GPT-4) or limited in scale ( ≤13B parameters), which restricts\\ntheir abilities.', 'In this work, we improve access to large-scale medical LLMs by\\nreleasing MEDITRON: a suite of open-source LLMs with 7B and 70B parameters\\nadapted to the medical domain.', 'MEDITRON builds on Llama-2 (through our adap-\\ntation of Nvidia’s Megatron-LM distributed trainer), and extends pretraining on\\na comprehensively curated medical corpus, including selected PubMed articles,\\nabstracts, and internationally-recognized medical guidelines.', 'Evaluations using\\nfour major medical benchmarks show significant performance gains over several\\nstate-of-the-art baselines before and after task-specific finetuning.']\n"
     ]
    }
   ],
   "source": [
    "import re\n",
    "from PyPDF2 import PdfReader\n",
    "\n",
    "def split_into_sentences(text):\n",
    "    sentences = re.split(r'(?<!\\w\\.\\w.)(?<![A-Z][a-z]\\.)(?<=\\.|\\?|\\!)\\s', text)\n",
    "    return [sentence.strip() for sentence in sentences if sentence.strip()]\n",
    "\n",
    "def read_pdf_and_extract_sentences(file_path):\n",
    "    # Initialize PDF reader\n",
    "    reader = PdfReader(file_path)\n",
    "    text = \"\\n\".join(page.extract_text() for page in reader.pages if page.extract_text())\n",
    "    return split_into_sentences(text)\n",
    "\n",
    "file_path = 'test.pdf'\n",
    "\n",
    "sentences = read_pdf_and_extract_sentences(file_path)\n",
    "\n",
    "print(sentences[:5])  "
   ]
  },
  {
   "cell_type": "code",
   "execution_count": 9,
   "id": "35668800-1bbe-4c67-ba3b-fd9ede6dd26b",
   "metadata": {},
   "outputs": [],
   "source": [
    "llmchain_information = sentences[:10]\n",
    "\n",
    "source_knowledge = \"\\n\".join(llmchain_information)"
   ]
  },
  {
   "cell_type": "code",
   "execution_count": 10,
   "id": "f96c7aa7-0216-4af5-95be-3838be877bd5",
   "metadata": {},
   "outputs": [],
   "source": [
    "query = \"Can you tell me what is MEDITRON?\"\n",
    "\n",
    "augmented_prompt = f\"\"\"Using the contexts below, answer the query.\n",
    "\n",
    "Contexts:\n",
    "{source_knowledge}\n",
    "\n",
    "Query: {query}\"\"\""
   ]
  },
  {
   "cell_type": "code",
   "execution_count": 11,
   "id": "6f10ded9-7b01-4313-84bf-8f318a27bcc8",
   "metadata": {},
   "outputs": [],
   "source": [
    "prompt = HumanMessage(\n",
    "    content=augmented_prompt\n",
    ")\n",
    "messages.append(prompt)\n",
    "\n",
    "res = chat(messages)"
   ]
  },
  {
   "cell_type": "code",
   "execution_count": 12,
   "id": "507ca181-a988-4958-8871-a9c43b2edf7a",
   "metadata": {},
   "outputs": [
    {
     "name": "stdout",
     "output_type": "stream",
     "text": [
      "MEDITRON is a suite of open-source Large Language Models (LLMs) with 7B and 70B parameters specifically designed for the medical domain. It is built upon Llama-2 and utilizes Nvidia's Megatron-LM distributed trainer for pretraining. MEDITRON incorporates a comprehensively curated medical corpus, including selected PubMed articles, abstracts, and internationally-recognized medical guidelines. It outperforms several state-of-the-art baselines in medical benchmarks and achieves significant performance gains. MEDITRON-70B, in particular, achieves an accuracy of 70.2% on USMLE-style questions in the MedQA dataset. The code for curating the medical pretraining corpus and the MEDITRON model weights are released to encourage open-source development of more capable medical LLMs.\n"
     ]
    }
   ],
   "source": [
    "print(res.content)"
   ]
  },
  {
   "cell_type": "code",
   "execution_count": null,
   "id": "f8505c24-858b-43b6-8051-e65a0e087e00",
   "metadata": {},
   "outputs": [],
   "source": []
  }
 ],
 "metadata": {
  "kernelspec": {
   "display_name": "Python 3 (ipykernel)",
   "language": "python",
   "name": "python3"
  },
  "language_info": {
   "codemirror_mode": {
    "name": "ipython",
    "version": 3
   },
   "file_extension": ".py",
   "mimetype": "text/x-python",
   "name": "python",
   "nbconvert_exporter": "python",
   "pygments_lexer": "ipython3",
   "version": "3.11.6"
  }
 },
 "nbformat": 4,
 "nbformat_minor": 5
}
