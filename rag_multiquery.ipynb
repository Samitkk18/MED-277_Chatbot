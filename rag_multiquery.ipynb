{
 "cells": [
  {
   "cell_type": "code",
   "execution_count": 1,
   "id": "fde4fdac-c87e-48f6-b2ac-3bce4cac28df",
   "metadata": {},
   "outputs": [],
   "source": [
    "# !pip install -r requirements.txt"
   ]
  },
  {
   "cell_type": "code",
   "execution_count": 2,
   "id": "6c0e8cde-9e3b-4dd5-a362-ca02c7edf28f",
   "metadata": {},
   "outputs": [],
   "source": [
    "import os\n",
    "from langchain.chat_models import ChatOpenAI\n",
    "from dotenv import load_dotenv"
   ]
  },
  {
   "cell_type": "code",
   "execution_count": 3,
   "id": "2db25400-277d-4560-ab3b-b87ca80d209c",
   "metadata": {},
   "outputs": [
    {
     "data": {
      "text/plain": [
       "True"
      ]
     },
     "execution_count": 3,
     "metadata": {},
     "output_type": "execute_result"
    }
   ],
   "source": [
    "load_dotenv()"
   ]
  },
  {
   "cell_type": "code",
   "execution_count": 4,
   "id": "facbd0d8-696e-400e-a821-1762db53adb1",
   "metadata": {},
   "outputs": [],
   "source": [
    "chat = ChatOpenAI(\n",
    "    openai_api_key=os.environ[\"OPENAI_API_KEY\"],\n",
    "    model='gpt-3.5-turbo'\n",
    ")"
   ]
  },
  {
   "cell_type": "code",
   "execution_count": 5,
   "id": "5f66c8b4-82a2-48fe-9aca-4d7d35480be6",
   "metadata": {},
   "outputs": [
    {
     "data": {
      "text/html": [
       "<div>\n",
       "<style scoped>\n",
       "    .dataframe tbody tr th:only-of-type {\n",
       "        vertical-align: middle;\n",
       "    }\n",
       "\n",
       "    .dataframe tbody tr th {\n",
       "        vertical-align: top;\n",
       "    }\n",
       "\n",
       "    .dataframe thead th {\n",
       "        text-align: right;\n",
       "    }\n",
       "</style>\n",
       "<table border=\"1\" class=\"dataframe\">\n",
       "  <thead>\n",
       "    <tr style=\"text-align: right;\">\n",
       "      <th></th>\n",
       "      <th>qtype</th>\n",
       "      <th>Question</th>\n",
       "      <th>Answer</th>\n",
       "    </tr>\n",
       "  </thead>\n",
       "  <tbody>\n",
       "    <tr>\n",
       "      <th>0</th>\n",
       "      <td>susceptibility</td>\n",
       "      <td>Who is at risk for Lymphocytic Choriomeningiti...</td>\n",
       "      <td>LCMV infections can occur after exposure to fr...</td>\n",
       "    </tr>\n",
       "    <tr>\n",
       "      <th>1</th>\n",
       "      <td>symptoms</td>\n",
       "      <td>What are the symptoms of Lymphocytic Choriomen...</td>\n",
       "      <td>LCMV is most commonly recognized as causing ne...</td>\n",
       "    </tr>\n",
       "    <tr>\n",
       "      <th>2</th>\n",
       "      <td>susceptibility</td>\n",
       "      <td>Who is at risk for Lymphocytic Choriomeningiti...</td>\n",
       "      <td>Individuals of all ages who come into contact ...</td>\n",
       "    </tr>\n",
       "    <tr>\n",
       "      <th>3</th>\n",
       "      <td>exams and tests</td>\n",
       "      <td>How to diagnose Lymphocytic Choriomeningitis (...</td>\n",
       "      <td>During the first phase of the disease, the mos...</td>\n",
       "    </tr>\n",
       "    <tr>\n",
       "      <th>4</th>\n",
       "      <td>treatment</td>\n",
       "      <td>What are the treatments for Lymphocytic Chorio...</td>\n",
       "      <td>Aseptic meningitis, encephalitis, or meningoen...</td>\n",
       "    </tr>\n",
       "  </tbody>\n",
       "</table>\n",
       "</div>"
      ],
      "text/plain": [
       "             qtype                                           Question  \\\n",
       "0   susceptibility  Who is at risk for Lymphocytic Choriomeningiti...   \n",
       "1         symptoms  What are the symptoms of Lymphocytic Choriomen...   \n",
       "2   susceptibility  Who is at risk for Lymphocytic Choriomeningiti...   \n",
       "3  exams and tests  How to diagnose Lymphocytic Choriomeningitis (...   \n",
       "4        treatment  What are the treatments for Lymphocytic Chorio...   \n",
       "\n",
       "                                              Answer  \n",
       "0  LCMV infections can occur after exposure to fr...  \n",
       "1  LCMV is most commonly recognized as causing ne...  \n",
       "2  Individuals of all ages who come into contact ...  \n",
       "3  During the first phase of the disease, the mos...  \n",
       "4  Aseptic meningitis, encephalitis, or meningoen...  "
      ]
     },
     "execution_count": 5,
     "metadata": {},
     "output_type": "execute_result"
    }
   ],
   "source": [
    "import pandas as pd\n",
    "dataset = pd.read_csv(\"medquad.csv\")\n",
    "dataset.head()"
   ]
  },
  {
   "cell_type": "code",
   "execution_count": 6,
   "id": "60a09e5c-7fe9-4a6c-8b54-7d0e0ac1430b",
   "metadata": {},
   "outputs": [
    {
     "name": "stderr",
     "output_type": "stream",
     "text": [
      "/Users/samitkapadia/Desktop/Fall23/MED-277_Chatbot/med/lib/python3.11/site-packages/pinecone/index.py:4: TqdmWarning: IProgress not found. Please update jupyter and ipywidgets. See https://ipywidgets.readthedocs.io/en/stable/user_install.html\n",
      "  from tqdm.autonotebook import tqdm\n"
     ]
    }
   ],
   "source": [
    "import pinecone\n",
    "\n",
    "pinecone.init(\n",
    "    api_key = os.environ[\"PINECONE_API_KEY_MAIN\"],\n",
    "    environment= os.environ[\"PINECONE_ENV\"]\n",
    ")"
   ]
  },
  {
   "cell_type": "code",
   "execution_count": 7,
   "id": "148e7635-b7d2-426e-91be-fca92aeb99a1",
   "metadata": {},
   "outputs": [],
   "source": [
    "#I have already created a vector database\n",
    "index_name = 'med277-medquad'\n",
    "index = pinecone.Index(index_name)"
   ]
  },
  {
   "cell_type": "code",
   "execution_count": 8,
   "id": "86202e41-6821-4c93-8f6e-bc634e819873",
   "metadata": {},
   "outputs": [
    {
     "data": {
      "text/plain": [
       "{'dimension': 1536,\n",
       " 'index_fullness': 0.16407,\n",
       " 'namespaces': {'': {'vector_count': 16407}},\n",
       " 'total_vector_count': 16407}"
      ]
     },
     "execution_count": 8,
     "metadata": {},
     "output_type": "execute_result"
    }
   ],
   "source": [
    "index.describe_index_stats()"
   ]
  },
  {
   "cell_type": "code",
   "execution_count": 16,
   "id": "d5d4c79f-ef4e-4055-bdd8-7fa98f3b0322",
   "metadata": {},
   "outputs": [],
   "source": [
    "from langchain.embeddings.openai import OpenAIEmbeddings\n",
    "my_key = os.environ[\"OPENAI_API_KEY\"]\n",
    "# embed_model = OpenAIEmbeddings(model=\"text-embedding-ada-002\")\n",
    "embed = OpenAIEmbeddings(\n",
    "    model=\"text-embedding-ada-002\", openai_api_key=my_key, disallowed_special=()\n",
    ")"
   ]
  },
  {
   "cell_type": "code",
   "execution_count": 22,
   "id": "b7564506-4345-4500-a792-39237da4b29f",
   "metadata": {},
   "outputs": [],
   "source": [
    "from langchain.vectorstores import Pinecone\n",
    "\n",
    "text_field = \"question\"\n",
    "\n",
    "vectorstore = Pinecone(index, embed.embed_query, text_field)"
   ]
  },
  {
   "cell_type": "code",
   "execution_count": 23,
   "id": "53d3a1b0-6651-4a64-80e9-401343cf43b4",
   "metadata": {},
   "outputs": [],
   "source": [
    "from langchain.chat_models import ChatOpenAI\n",
    "my_key = os.environ[\"OPENAI_API_KEY\"]\n",
    "llm = ChatOpenAI(temperature=0, openai_api_key=my_key)"
   ]
  },
  {
   "cell_type": "code",
   "execution_count": 24,
   "id": "247ff576-f326-4828-bfae-e71cd6f0ed84",
   "metadata": {},
   "outputs": [],
   "source": [
    "from langchain.retrievers.multi_query import MultiQueryRetriever\n",
    "\n",
    "retriever = MultiQueryRetriever.from_llm(\n",
    "    retriever=vectorstore.as_retriever(), llm=llm\n",
    ")"
   ]
  },
  {
   "cell_type": "code",
   "execution_count": 25,
   "id": "8fc421e8-d6df-42a5-b19c-ee7c75f36b51",
   "metadata": {},
   "outputs": [],
   "source": [
    "# Set logging for the queries\n",
    "import logging\n",
    "\n",
    "logging.basicConfig()\n",
    "logging.getLogger(\"langchain.retrievers.multi_query\").setLevel(logging.INFO)"
   ]
  },
  {
   "cell_type": "code",
   "execution_count": 26,
   "id": "0414c094-2389-4b87-b097-f7624cb1aa2a",
   "metadata": {},
   "outputs": [
    {
     "name": "stderr",
     "output_type": "stream",
     "text": [
      "INFO:langchain.retrievers.multi_query:Generated queries: ['1. What are the factors that increase the risk of Lymphocytic Choriomeningitis (LCM)?', '2. Can you provide information on the demographics most susceptible to Lymphocytic Choriomeningitis (LCM)?', '3. Which groups of individuals are more prone to contracting Lymphocytic Choriomeningitis (LCM)?']\n"
     ]
    },
    {
     "data": {
      "text/plain": [
       "5"
      ]
     },
     "execution_count": 26,
     "metadata": {},
     "output_type": "execute_result"
    }
   ],
   "source": [
    "question = \"Who is at risk for Lymphocytic Choriomeningitis (LCM)?\"\n",
    "\n",
    "docs = retriever.get_relevant_documents(query=question)\n",
    "len(docs)"
   ]
  },
  {
   "cell_type": "code",
   "execution_count": 27,
   "id": "915861bf-8320-4c51-9ec1-0ed91cccbeaa",
   "metadata": {},
   "outputs": [
    {
     "data": {
      "text/plain": [
       "[Document(page_content='Who is at risk for Lymphocytic Choriomeningitis (LCM)? ?', metadata={'answer': 'LCMV infections can occur after exposure to fresh urine, droppings, saliva, or nesting materials from infected rodents.  Transmission may also occur when these materials are directly introduced into broken skin, the nose, the eyes, or the mouth, or presumably, via the bite of an infected rodent. Person-to-person transmission has not been reported, with the exception of vertical transmission from infected mother to fetus, and rarely, through organ transplantation.', 'qtype': 'susceptibility'}),\n",
       " Document(page_content='Who is at risk for Lymphocytic Choriomeningitis (LCM)? ?', metadata={'answer': 'Individuals of all ages who come into contact with urine, feces, saliva, or blood of wild mice are potentially at risk for infection. Owners of pet mice or hamsters may be at risk for infection if these animals originate from colonies that were contaminated with LCMV, or if their animals are infected from other wild mice. Human fetuses are at risk of acquiring infection vertically from an infected mother. \\n                \\nLaboratory workers who work with the virus or handle infected animals are also at risk. However, this risk can be minimized by utilizing animals from sources that regularly test for the virus, wearing proper protective laboratory gear, and following appropriate safety precautions.', 'qtype': 'susceptibility'}),\n",
       " Document(page_content='What are the symptoms of Lymphocytic Choriomeningitis (LCM) ?', metadata={'answer': 'LCMV is most commonly recognized as causing neurological disease, as its name implies, though infection without symptoms or mild febrile illnesses are more common clinical manifestations. \\n                \\nFor infected persons who do become ill, onset of symptoms usually occurs 8-13 days after exposure to the virus as part of a biphasic febrile illness. This initial phase, which may last as long as a week, typically begins with any or all of the following symptoms: fever, malaise, lack of appetite, muscle aches, headache, nausea, and vomiting. Other symptoms appearing less frequently include sore throat, cough, joint pain, chest pain, testicular pain, and parotid (salivary gland) pain. \\n                \\nFollowing a few days of recovery, a second phase of illness may occur. Symptoms may consist of meningitis (fever, headache, stiff neck, etc.), encephalitis (drowsiness, confusion, sensory disturbances, and/or motor abnormalities, such as paralysis), or meningoencephalitis (inflammation of both the brain and meninges). LCMV has also been known to cause acute hydrocephalus (increased fluid on the brain), which often requires surgical shunting to relieve increased intracranial pressure. In rare instances, infection results in myelitis (inflammation of the spinal cord) and presents with symptoms such as muscle weakness, paralysis, or changes in body sensation. An association between LCMV infection and myocarditis (inflammation of the heart muscles) has been suggested. \\n                \\nPrevious observations show that most patients who develop aseptic meningitis or encephalitis due to LCMV survive. No chronic infection has been described in humans, and after the acute phase of illness, the virus is cleared from the body. However, as in all infections of the central nervous system, particularly encephalitis, temporary or permanent neurological damage is possible. Nerve deafness and arthritis have been reported. \\n                \\nWomen who become infected with LCMV during pregnancy may pass the infection on to the fetus. Infections occurring during the first trimester may result in fetal death and pregnancy termination, while in the second and third trimesters, birth defects can develop. Infants infected In utero can have many serious and permanent birth defects, including vision problems, mental retardation, and hydrocephaly (water on the brain). Pregnant women may recall a flu-like illness during pregnancy, or may not recall any illness. \\n                \\nLCM is usually not fatal. In general, mortality is less than 1%.', 'qtype': 'symptoms'}),\n",
       " Document(page_content='How to prevent Lymphocytic Choriomeningitis (LCM) ?', metadata={'answer': \"LCMV infection can be prevented by avoiding contact with wild mice and taking precautions when handling pet rodents (i.e. mice, hamsters, or guinea pigs). \\n                \\nRarely, pet rodents may become infected with LCMV from wild rodents. Breeders, pet stores, and pet owners should take measures to prevent infestations of wild rodents. Pet rodents should not come into contact with wild rodents. If you have a pet rodent, wash your hands with soap and water (or waterless alcohol-based hand rubs when soap is not available and hands are not visibly soiled) after handling rodents or their cages and bedding. \\n                \\nIf you have a rodent infestation in and around your home, take the following precautions to reduce the risk of LCMV infection: \\n \\n - Seal up rodent entry holes or gaps with steel wool, lath metal, or caulk. \\n - Trap rats and mice by using an appropriate snap trap. \\n - Clean up rodent food sources and nesting sites and take precautions when cleaning rodent-infected areas: \\n   \\n   - Use cross-ventilation when entering a previously unventilated enclosed room or dwelling prior to cleanup. \\n   - Put on rubber, latex, vinyl or nitrile gloves. \\n   - Do not stir up dust by vacuuming, sweeping, or any other means. \\n   - Thoroughly wet contaminated areas with a bleach solution or household disinfectant. \\n   - Hypochlorite (bleach) solution: Mix 1 and 1/2 cups of household bleach in 1 gallon of water. \\n   - Once everything is wet, take up contaminated materials with damp towel and then mop or sponge the area with bleach solution or household disinfectant. \\n   - Spray dead rodents with disinfectant and then double-bag along with all cleaning materials and throw bag out in an appropriate waste disposal system. \\n   - Remove the gloves and thoroughly wash your hands with soap and water (or waterless alcohol-based hand rubs when soap is not available and hands are not visibly soiled). \\n    \\n \\n                \\nThe geographic distributions of the rodent hosts are widespread both domestically and abroad. However, infrequent recognition and diagnosis, and historic underreporting of LCM, have limited scientists' ability to estimate incidence rates and prevalence of disease among humans. Understanding the epidemiology of LCM and LCMV infections will help to further delineate risk factors for infection and develop effective preventive strategies. Increasing physician awareness will improve disease recognition and reporting, which may lead to better characterization of the natural history and the underlying immunopathological mechanisms of disease, and stimulate future therapeutic research and development.\", 'qtype': 'prevention'}),\n",
       " Document(page_content='How to diagnose Lymphocytic Choriomeningitis (LCM) ?', metadata={'answer': 'During the first phase of the disease, the most common laboratory abnormalities are a low white blood cell count (leukopenia) and a low platelet count (thrombocytopenia). Liver enzymes in the serum may also be mildly elevated. After the onset of neurological disease during the second phase, an increase in protein levels, an increase in the number of white blood cells or a decrease in the glucose levels in the cerebrospinal fluid (CSF) is usually found. \\n   \\nLaboratory diagnosis is usually made by detecting IgM and IgG antibodies in the CSF and serum. Virus can be detected by PCR or virus isolation in the CSF at during the acute stage of illness.', 'qtype': 'exams and tests'})]"
      ]
     },
     "execution_count": 27,
     "metadata": {},
     "output_type": "execute_result"
    }
   ],
   "source": [
    "docs"
   ]
  },
  {
   "cell_type": "code",
   "execution_count": 28,
   "id": "aea066a7-a334-4687-bd47-1f992e88a12b",
   "metadata": {},
   "outputs": [],
   "source": [
    "def augment_prompt(query: str):\n",
    "    # get top 3 results from knowledge base\n",
    "    results = vectorstore.similarity_search(query, k=3)\n",
    "    # get the text from the results\n",
    "    source_knowledge = \"\\n\".join([x.page_content for x in results])\n",
    "    # feed into an augmented prompt\n",
    "    augmented_prompt = f\"\"\"You are a helpful assistant who answers user queries using the\n",
    "    contexts provided. If the question cannot be answered using the information\n",
    "    provided say \"I don't know\"\n",
    "\n",
    "    Contexts:\n",
    "    {source_knowledge}\n",
    "\n",
    "    Query: {query}\"\"\"\n",
    "    return augmented_prompt"
   ]
  },
  {
   "cell_type": "code",
   "execution_count": 31,
   "id": "4087d55f-447a-44ec-9367-2bde2feec69a",
   "metadata": {},
   "outputs": [],
   "source": [
    "import openai\n",
    "from langchain.llms import OpenAI"
   ]
  },
  {
   "cell_type": "code",
   "execution_count": 35,
   "id": "24350ea7-8bcd-4a52-b0b5-834c1c9d7296",
   "metadata": {},
   "outputs": [],
   "source": [
    "query = \"Chandu ke chacha ne chandu ki chachi se kya kaha?\"\n",
    "augmented_prompt = augment_prompt(query)\n",
    "\n",
    "llm = OpenAI(temperature=1, openai_api_key=my_key)\n",
    "res = llm(query)"
   ]
  },
  {
   "cell_type": "code",
   "execution_count": 36,
   "id": "d4092bd9-72d6-4fb9-8d42-ce3923a73fc6",
   "metadata": {},
   "outputs": [
    {
     "name": "stdout",
     "output_type": "stream",
     "text": [
      "\n",
      "\n",
      "Chandu ke Chacha ne Chandu ki Chachi ko Kaha, \"Humari bacchi ke sapno ko pura karne mein humari aapki madad zaroori hai.\"\n"
     ]
    }
   ],
   "source": [
    "print(res)"
   ]
  },
  {
   "cell_type": "code",
   "execution_count": null,
   "id": "8862163b-1afb-4f86-8e5e-7ccd4f9bc6c9",
   "metadata": {},
   "outputs": [],
   "source": []
  }
 ],
 "metadata": {
  "kernelspec": {
   "display_name": "Python 3 (ipykernel)",
   "language": "python",
   "name": "python3"
  },
  "language_info": {
   "codemirror_mode": {
    "name": "ipython",
    "version": 3
   },
   "file_extension": ".py",
   "mimetype": "text/x-python",
   "name": "python",
   "nbconvert_exporter": "python",
   "pygments_lexer": "ipython3",
   "version": "3.11.6"
  }
 },
 "nbformat": 4,
 "nbformat_minor": 5
}
