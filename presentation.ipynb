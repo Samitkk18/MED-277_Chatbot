{
 "cells": [
  {
   "cell_type": "code",
   "execution_count": 1,
   "id": "40c478af-be42-471e-bd14-89c2d2e641fc",
   "metadata": {
    "scrolled": true
   },
   "outputs": [
    {
     "name": "stdout",
     "output_type": "stream",
     "text": [
      "Requirement already satisfied: cohere in /Users/samitkapadia/Desktop/Fall23/MED277/med277/lib/python3.11/site-packages (from -r requirements.txt (line 1)) (4.37)\n",
      "Requirement already satisfied: langchain==0.0.292 in /Users/samitkapadia/Desktop/Fall23/MED277/med277/lib/python3.11/site-packages (from -r requirements.txt (line 2)) (0.0.292)\n",
      "Requirement already satisfied: openai==0.28.0 in /Users/samitkapadia/Desktop/Fall23/MED277/med277/lib/python3.11/site-packages (from -r requirements.txt (line 3)) (0.28.0)\n",
      "Requirement already satisfied: datasets==2.10.1 in /Users/samitkapadia/Desktop/Fall23/MED277/med277/lib/python3.11/site-packages (from -r requirements.txt (line 4)) (2.10.1)\n",
      "Requirement already satisfied: pinecone-client==2.2.4 in /Users/samitkapadia/Desktop/Fall23/MED277/med277/lib/python3.11/site-packages (from -r requirements.txt (line 5)) (2.2.4)\n",
      "Requirement already satisfied: tiktoken==0.5.1 in /Users/samitkapadia/Desktop/Fall23/MED277/med277/lib/python3.11/site-packages (from -r requirements.txt (line 6)) (0.5.1)\n",
      "Requirement already satisfied: python-dotenv in /Users/samitkapadia/Desktop/Fall23/MED277/med277/lib/python3.11/site-packages (from -r requirements.txt (line 7)) (1.0.0)\n",
      "Requirement already satisfied: PyYAML>=5.3 in /Users/samitkapadia/Desktop/Fall23/MED277/med277/lib/python3.11/site-packages (from langchain==0.0.292->-r requirements.txt (line 2)) (6.0)\n",
      "Requirement already satisfied: SQLAlchemy<3,>=1.4 in /Users/samitkapadia/Desktop/Fall23/MED277/med277/lib/python3.11/site-packages (from langchain==0.0.292->-r requirements.txt (line 2)) (2.0.23)\n",
      "Requirement already satisfied: aiohttp<4.0.0,>=3.8.3 in /Users/samitkapadia/Desktop/Fall23/MED277/med277/lib/python3.11/site-packages (from langchain==0.0.292->-r requirements.txt (line 2)) (3.9.1)\n",
      "Requirement already satisfied: dataclasses-json<0.6.0,>=0.5.7 in /Users/samitkapadia/Desktop/Fall23/MED277/med277/lib/python3.11/site-packages (from langchain==0.0.292->-r requirements.txt (line 2)) (0.5.14)\n",
      "Requirement already satisfied: langsmith<0.1.0,>=0.0.21 in /Users/samitkapadia/Desktop/Fall23/MED277/med277/lib/python3.11/site-packages (from langchain==0.0.292->-r requirements.txt (line 2)) (0.0.69)\n",
      "Requirement already satisfied: numexpr<3.0.0,>=2.8.4 in /Users/samitkapadia/Desktop/Fall23/MED277/med277/lib/python3.11/site-packages (from langchain==0.0.292->-r requirements.txt (line 2)) (2.8.7)\n",
      "Requirement already satisfied: numpy<2,>=1 in /Users/samitkapadia/Desktop/Fall23/MED277/med277/lib/python3.11/site-packages (from langchain==0.0.292->-r requirements.txt (line 2)) (1.26.1)\n",
      "Requirement already satisfied: pydantic<3,>=1 in /Users/samitkapadia/Desktop/Fall23/MED277/med277/lib/python3.11/site-packages (from langchain==0.0.292->-r requirements.txt (line 2)) (1.10.13)\n",
      "Requirement already satisfied: requests<3,>=2 in /Users/samitkapadia/Desktop/Fall23/MED277/med277/lib/python3.11/site-packages (from langchain==0.0.292->-r requirements.txt (line 2)) (2.31.0)\n",
      "Requirement already satisfied: tenacity<9.0.0,>=8.1.0 in /Users/samitkapadia/Desktop/Fall23/MED277/med277/lib/python3.11/site-packages (from langchain==0.0.292->-r requirements.txt (line 2)) (8.2.3)\n",
      "Requirement already satisfied: tqdm in /Users/samitkapadia/Desktop/Fall23/MED277/med277/lib/python3.11/site-packages (from openai==0.28.0->-r requirements.txt (line 3)) (4.66.1)\n",
      "Requirement already satisfied: pyarrow>=6.0.0 in /Users/samitkapadia/Desktop/Fall23/MED277/med277/lib/python3.11/site-packages (from datasets==2.10.1->-r requirements.txt (line 4)) (14.0.1)\n",
      "Requirement already satisfied: dill<0.3.7,>=0.3.0 in /Users/samitkapadia/Desktop/Fall23/MED277/med277/lib/python3.11/site-packages (from datasets==2.10.1->-r requirements.txt (line 4)) (0.3.6)\n",
      "Requirement already satisfied: pandas in /Users/samitkapadia/Desktop/Fall23/MED277/med277/lib/python3.11/site-packages (from datasets==2.10.1->-r requirements.txt (line 4)) (2.1.2)\n",
      "Requirement already satisfied: xxhash in /Users/samitkapadia/Desktop/Fall23/MED277/med277/lib/python3.11/site-packages (from datasets==2.10.1->-r requirements.txt (line 4)) (3.4.1)\n",
      "Requirement already satisfied: multiprocess in /Users/samitkapadia/Desktop/Fall23/MED277/med277/lib/python3.11/site-packages (from datasets==2.10.1->-r requirements.txt (line 4)) (0.70.14)\n",
      "Requirement already satisfied: fsspec>=2021.11.1 in /Users/samitkapadia/Desktop/Fall23/MED277/med277/lib/python3.11/site-packages (from fsspec[http]>=2021.11.1->datasets==2.10.1->-r requirements.txt (line 4)) (2023.10.0)\n",
      "Requirement already satisfied: huggingface-hub<1.0.0,>=0.2.0 in /Users/samitkapadia/Desktop/Fall23/MED277/med277/lib/python3.11/site-packages (from datasets==2.10.1->-r requirements.txt (line 4)) (0.19.4)\n",
      "Requirement already satisfied: packaging in /Users/samitkapadia/Desktop/Fall23/MED277/med277/lib/python3.11/site-packages (from datasets==2.10.1->-r requirements.txt (line 4)) (23.2)\n",
      "Requirement already satisfied: responses<0.19 in /Users/samitkapadia/Desktop/Fall23/MED277/med277/lib/python3.11/site-packages (from datasets==2.10.1->-r requirements.txt (line 4)) (0.18.0)\n",
      "Requirement already satisfied: loguru>=0.5.0 in /Users/samitkapadia/Desktop/Fall23/MED277/med277/lib/python3.11/site-packages (from pinecone-client==2.2.4->-r requirements.txt (line 5)) (0.7.2)\n",
      "Requirement already satisfied: typing-extensions>=3.7.4 in /Users/samitkapadia/Desktop/Fall23/MED277/med277/lib/python3.11/site-packages (from pinecone-client==2.2.4->-r requirements.txt (line 5)) (4.8.0)\n",
      "Requirement already satisfied: dnspython>=2.0.0 in /Users/samitkapadia/Desktop/Fall23/MED277/med277/lib/python3.11/site-packages (from pinecone-client==2.2.4->-r requirements.txt (line 5)) (2.4.2)\n",
      "Requirement already satisfied: python-dateutil>=2.5.3 in /Users/samitkapadia/Desktop/Fall23/MED277/med277/lib/python3.11/site-packages (from pinecone-client==2.2.4->-r requirements.txt (line 5)) (2.8.2)\n",
      "Requirement already satisfied: urllib3>=1.21.1 in /Users/samitkapadia/Desktop/Fall23/MED277/med277/lib/python3.11/site-packages (from pinecone-client==2.2.4->-r requirements.txt (line 5)) (2.0.7)\n",
      "Requirement already satisfied: regex>=2022.1.18 in /Users/samitkapadia/Desktop/Fall23/MED277/med277/lib/python3.11/site-packages (from tiktoken==0.5.1->-r requirements.txt (line 6)) (2023.10.3)\n",
      "Requirement already satisfied: backoff<3.0,>=2.0 in /Users/samitkapadia/Desktop/Fall23/MED277/med277/lib/python3.11/site-packages (from cohere->-r requirements.txt (line 1)) (2.2.1)\n",
      "Requirement already satisfied: fastavro<2.0,>=1.8 in /Users/samitkapadia/Desktop/Fall23/MED277/med277/lib/python3.11/site-packages (from cohere->-r requirements.txt (line 1)) (1.9.0)\n",
      "Requirement already satisfied: importlib_metadata<7.0,>=6.0 in /Users/samitkapadia/Desktop/Fall23/MED277/med277/lib/python3.11/site-packages (from cohere->-r requirements.txt (line 1)) (6.11.0)\n",
      "Requirement already satisfied: attrs>=17.3.0 in /Users/samitkapadia/Desktop/Fall23/MED277/med277/lib/python3.11/site-packages (from aiohttp<4.0.0,>=3.8.3->langchain==0.0.292->-r requirements.txt (line 2)) (23.1.0)\n",
      "Requirement already satisfied: multidict<7.0,>=4.5 in /Users/samitkapadia/Desktop/Fall23/MED277/med277/lib/python3.11/site-packages (from aiohttp<4.0.0,>=3.8.3->langchain==0.0.292->-r requirements.txt (line 2)) (6.0.4)\n",
      "Requirement already satisfied: yarl<2.0,>=1.0 in /Users/samitkapadia/Desktop/Fall23/MED277/med277/lib/python3.11/site-packages (from aiohttp<4.0.0,>=3.8.3->langchain==0.0.292->-r requirements.txt (line 2)) (1.9.3)\n",
      "Requirement already satisfied: frozenlist>=1.1.1 in /Users/samitkapadia/Desktop/Fall23/MED277/med277/lib/python3.11/site-packages (from aiohttp<4.0.0,>=3.8.3->langchain==0.0.292->-r requirements.txt (line 2)) (1.4.0)\n",
      "Requirement already satisfied: aiosignal>=1.1.2 in /Users/samitkapadia/Desktop/Fall23/MED277/med277/lib/python3.11/site-packages (from aiohttp<4.0.0,>=3.8.3->langchain==0.0.292->-r requirements.txt (line 2)) (1.3.1)\n",
      "Requirement already satisfied: marshmallow<4.0.0,>=3.18.0 in /Users/samitkapadia/Desktop/Fall23/MED277/med277/lib/python3.11/site-packages (from dataclasses-json<0.6.0,>=0.5.7->langchain==0.0.292->-r requirements.txt (line 2)) (3.20.1)\n",
      "Requirement already satisfied: typing-inspect<1,>=0.4.0 in /Users/samitkapadia/Desktop/Fall23/MED277/med277/lib/python3.11/site-packages (from dataclasses-json<0.6.0,>=0.5.7->langchain==0.0.292->-r requirements.txt (line 2)) (0.9.0)\n",
      "Requirement already satisfied: filelock in /Users/samitkapadia/Desktop/Fall23/MED277/med277/lib/python3.11/site-packages (from huggingface-hub<1.0.0,>=0.2.0->datasets==2.10.1->-r requirements.txt (line 4)) (3.13.1)\n",
      "Requirement already satisfied: zipp>=0.5 in /Users/samitkapadia/Desktop/Fall23/MED277/med277/lib/python3.11/site-packages (from importlib_metadata<7.0,>=6.0->cohere->-r requirements.txt (line 1)) (3.17.0)\n",
      "Requirement already satisfied: six>=1.5 in /Users/samitkapadia/Desktop/Fall23/MED277/med277/lib/python3.11/site-packages (from python-dateutil>=2.5.3->pinecone-client==2.2.4->-r requirements.txt (line 5)) (1.16.0)\n",
      "Requirement already satisfied: charset-normalizer<4,>=2 in /Users/samitkapadia/Desktop/Fall23/MED277/med277/lib/python3.11/site-packages (from requests<3,>=2->langchain==0.0.292->-r requirements.txt (line 2)) (3.3.2)\n",
      "Requirement already satisfied: idna<4,>=2.5 in /Users/samitkapadia/Desktop/Fall23/MED277/med277/lib/python3.11/site-packages (from requests<3,>=2->langchain==0.0.292->-r requirements.txt (line 2)) (3.4)\n",
      "Requirement already satisfied: certifi>=2017.4.17 in /Users/samitkapadia/Desktop/Fall23/MED277/med277/lib/python3.11/site-packages (from requests<3,>=2->langchain==0.0.292->-r requirements.txt (line 2)) (2023.7.22)\n",
      "Requirement already satisfied: pytz>=2020.1 in /Users/samitkapadia/Desktop/Fall23/MED277/med277/lib/python3.11/site-packages (from pandas->datasets==2.10.1->-r requirements.txt (line 4)) (2023.3.post1)\n",
      "Requirement already satisfied: tzdata>=2022.1 in /Users/samitkapadia/Desktop/Fall23/MED277/med277/lib/python3.11/site-packages (from pandas->datasets==2.10.1->-r requirements.txt (line 4)) (2023.3)\n",
      "Requirement already satisfied: mypy-extensions>=0.3.0 in /Users/samitkapadia/Desktop/Fall23/MED277/med277/lib/python3.11/site-packages (from typing-inspect<1,>=0.4.0->dataclasses-json<0.6.0,>=0.5.7->langchain==0.0.292->-r requirements.txt (line 2)) (1.0.0)\n"
     ]
    }
   ],
   "source": [
    "!pip install -r requirements.txt"
   ]
  },
  {
   "cell_type": "code",
   "execution_count": 2,
   "id": "96cbf6a8-d2b0-406c-b04f-c1cce131533b",
   "metadata": {},
   "outputs": [],
   "source": [
    "import os\n",
    "from langchain.chat_models import ChatOpenAI\n",
    "from dotenv import load_dotenv"
   ]
  },
  {
   "cell_type": "code",
   "execution_count": 3,
   "id": "50d19849-9b3e-4d84-ae64-2946948a3055",
   "metadata": {},
   "outputs": [
    {
     "data": {
      "text/plain": [
       "True"
      ]
     },
     "execution_count": 3,
     "metadata": {},
     "output_type": "execute_result"
    }
   ],
   "source": [
    "load_dotenv()"
   ]
  },
  {
   "cell_type": "code",
   "execution_count": 4,
   "id": "6de523cd-e2fc-406e-bf67-e18f1c8df32a",
   "metadata": {},
   "outputs": [],
   "source": [
    "chat = ChatOpenAI(\n",
    "    openai_api_key=os.environ[\"OPENAI_API_KEY\"],\n",
    "    model='gpt-3.5-turbo'\n",
    ")"
   ]
  },
  {
   "cell_type": "code",
   "execution_count": 5,
   "id": "e33a827e-0a41-41aa-95b4-6ed1c39a0b81",
   "metadata": {
    "scrolled": true
   },
   "outputs": [
    {
     "name": "stdout",
     "output_type": "stream",
     "text": [
      "Requirement already satisfied: datasets in /Users/samitkapadia/Desktop/Fall23/MED277/med277/lib/python3.11/site-packages (2.10.1)\n",
      "Requirement already satisfied: numpy>=1.17 in /Users/samitkapadia/Desktop/Fall23/MED277/med277/lib/python3.11/site-packages (from datasets) (1.26.1)\n",
      "Requirement already satisfied: pyarrow>=6.0.0 in /Users/samitkapadia/Desktop/Fall23/MED277/med277/lib/python3.11/site-packages (from datasets) (14.0.1)\n",
      "Requirement already satisfied: dill<0.3.7,>=0.3.0 in /Users/samitkapadia/Desktop/Fall23/MED277/med277/lib/python3.11/site-packages (from datasets) (0.3.6)\n",
      "Requirement already satisfied: pandas in /Users/samitkapadia/Desktop/Fall23/MED277/med277/lib/python3.11/site-packages (from datasets) (2.1.2)\n",
      "Requirement already satisfied: requests>=2.19.0 in /Users/samitkapadia/Desktop/Fall23/MED277/med277/lib/python3.11/site-packages (from datasets) (2.31.0)\n",
      "Requirement already satisfied: tqdm>=4.62.1 in /Users/samitkapadia/Desktop/Fall23/MED277/med277/lib/python3.11/site-packages (from datasets) (4.66.1)\n",
      "Requirement already satisfied: xxhash in /Users/samitkapadia/Desktop/Fall23/MED277/med277/lib/python3.11/site-packages (from datasets) (3.4.1)\n",
      "Requirement already satisfied: multiprocess in /Users/samitkapadia/Desktop/Fall23/MED277/med277/lib/python3.11/site-packages (from datasets) (0.70.14)\n",
      "Requirement already satisfied: fsspec>=2021.11.1 in /Users/samitkapadia/Desktop/Fall23/MED277/med277/lib/python3.11/site-packages (from fsspec[http]>=2021.11.1->datasets) (2023.10.0)\n",
      "Requirement already satisfied: aiohttp in /Users/samitkapadia/Desktop/Fall23/MED277/med277/lib/python3.11/site-packages (from datasets) (3.9.1)\n",
      "Requirement already satisfied: huggingface-hub<1.0.0,>=0.2.0 in /Users/samitkapadia/Desktop/Fall23/MED277/med277/lib/python3.11/site-packages (from datasets) (0.19.4)\n",
      "Requirement already satisfied: packaging in /Users/samitkapadia/Desktop/Fall23/MED277/med277/lib/python3.11/site-packages (from datasets) (23.2)\n",
      "Requirement already satisfied: responses<0.19 in /Users/samitkapadia/Desktop/Fall23/MED277/med277/lib/python3.11/site-packages (from datasets) (0.18.0)\n",
      "Requirement already satisfied: pyyaml>=5.1 in /Users/samitkapadia/Desktop/Fall23/MED277/med277/lib/python3.11/site-packages (from datasets) (6.0)\n",
      "Requirement already satisfied: attrs>=17.3.0 in /Users/samitkapadia/Desktop/Fall23/MED277/med277/lib/python3.11/site-packages (from aiohttp->datasets) (23.1.0)\n",
      "Requirement already satisfied: multidict<7.0,>=4.5 in /Users/samitkapadia/Desktop/Fall23/MED277/med277/lib/python3.11/site-packages (from aiohttp->datasets) (6.0.4)\n",
      "Requirement already satisfied: yarl<2.0,>=1.0 in /Users/samitkapadia/Desktop/Fall23/MED277/med277/lib/python3.11/site-packages (from aiohttp->datasets) (1.9.3)\n",
      "Requirement already satisfied: frozenlist>=1.1.1 in /Users/samitkapadia/Desktop/Fall23/MED277/med277/lib/python3.11/site-packages (from aiohttp->datasets) (1.4.0)\n",
      "Requirement already satisfied: aiosignal>=1.1.2 in /Users/samitkapadia/Desktop/Fall23/MED277/med277/lib/python3.11/site-packages (from aiohttp->datasets) (1.3.1)\n",
      "Requirement already satisfied: filelock in /Users/samitkapadia/Desktop/Fall23/MED277/med277/lib/python3.11/site-packages (from huggingface-hub<1.0.0,>=0.2.0->datasets) (3.13.1)\n",
      "Requirement already satisfied: typing-extensions>=3.7.4.3 in /Users/samitkapadia/Desktop/Fall23/MED277/med277/lib/python3.11/site-packages (from huggingface-hub<1.0.0,>=0.2.0->datasets) (4.8.0)\n",
      "Requirement already satisfied: charset-normalizer<4,>=2 in /Users/samitkapadia/Desktop/Fall23/MED277/med277/lib/python3.11/site-packages (from requests>=2.19.0->datasets) (3.3.2)\n",
      "Requirement already satisfied: idna<4,>=2.5 in /Users/samitkapadia/Desktop/Fall23/MED277/med277/lib/python3.11/site-packages (from requests>=2.19.0->datasets) (3.4)\n",
      "Requirement already satisfied: urllib3<3,>=1.21.1 in /Users/samitkapadia/Desktop/Fall23/MED277/med277/lib/python3.11/site-packages (from requests>=2.19.0->datasets) (2.0.7)\n",
      "Requirement already satisfied: certifi>=2017.4.17 in /Users/samitkapadia/Desktop/Fall23/MED277/med277/lib/python3.11/site-packages (from requests>=2.19.0->datasets) (2023.7.22)\n",
      "Requirement already satisfied: python-dateutil>=2.8.2 in /Users/samitkapadia/Desktop/Fall23/MED277/med277/lib/python3.11/site-packages (from pandas->datasets) (2.8.2)\n",
      "Requirement already satisfied: pytz>=2020.1 in /Users/samitkapadia/Desktop/Fall23/MED277/med277/lib/python3.11/site-packages (from pandas->datasets) (2023.3.post1)\n",
      "Requirement already satisfied: tzdata>=2022.1 in /Users/samitkapadia/Desktop/Fall23/MED277/med277/lib/python3.11/site-packages (from pandas->datasets) (2023.3)\n",
      "Requirement already satisfied: six>=1.5 in /Users/samitkapadia/Desktop/Fall23/MED277/med277/lib/python3.11/site-packages (from python-dateutil>=2.8.2->pandas->datasets) (1.16.0)\n"
     ]
    }
   ],
   "source": [
    "!pip install datasets"
   ]
  },
  {
   "cell_type": "code",
   "execution_count": 6,
   "id": "fd2d017f-0de9-4041-b060-a6cefb174281",
   "metadata": {},
   "outputs": [
    {
     "data": {
      "text/html": [
       "<div>\n",
       "<style scoped>\n",
       "    .dataframe tbody tr th:only-of-type {\n",
       "        vertical-align: middle;\n",
       "    }\n",
       "\n",
       "    .dataframe tbody tr th {\n",
       "        vertical-align: top;\n",
       "    }\n",
       "\n",
       "    .dataframe thead th {\n",
       "        text-align: right;\n",
       "    }\n",
       "</style>\n",
       "<table border=\"1\" class=\"dataframe\">\n",
       "  <thead>\n",
       "    <tr style=\"text-align: right;\">\n",
       "      <th></th>\n",
       "      <th>qtype</th>\n",
       "      <th>Question</th>\n",
       "      <th>Answer</th>\n",
       "    </tr>\n",
       "  </thead>\n",
       "  <tbody>\n",
       "    <tr>\n",
       "      <th>0</th>\n",
       "      <td>susceptibility</td>\n",
       "      <td>Who is at risk for Lymphocytic Choriomeningiti...</td>\n",
       "      <td>LCMV infections can occur after exposure to fr...</td>\n",
       "    </tr>\n",
       "    <tr>\n",
       "      <th>1</th>\n",
       "      <td>symptoms</td>\n",
       "      <td>What are the symptoms of Lymphocytic Choriomen...</td>\n",
       "      <td>LCMV is most commonly recognized as causing ne...</td>\n",
       "    </tr>\n",
       "    <tr>\n",
       "      <th>2</th>\n",
       "      <td>susceptibility</td>\n",
       "      <td>Who is at risk for Lymphocytic Choriomeningiti...</td>\n",
       "      <td>Individuals of all ages who come into contact ...</td>\n",
       "    </tr>\n",
       "    <tr>\n",
       "      <th>3</th>\n",
       "      <td>exams and tests</td>\n",
       "      <td>How to diagnose Lymphocytic Choriomeningitis (...</td>\n",
       "      <td>During the first phase of the disease, the mos...</td>\n",
       "    </tr>\n",
       "    <tr>\n",
       "      <th>4</th>\n",
       "      <td>treatment</td>\n",
       "      <td>What are the treatments for Lymphocytic Chorio...</td>\n",
       "      <td>Aseptic meningitis, encephalitis, or meningoen...</td>\n",
       "    </tr>\n",
       "  </tbody>\n",
       "</table>\n",
       "</div>"
      ],
      "text/plain": [
       "             qtype                                           Question  \\\n",
       "0   susceptibility  Who is at risk for Lymphocytic Choriomeningiti...   \n",
       "1         symptoms  What are the symptoms of Lymphocytic Choriomen...   \n",
       "2   susceptibility  Who is at risk for Lymphocytic Choriomeningiti...   \n",
       "3  exams and tests  How to diagnose Lymphocytic Choriomeningitis (...   \n",
       "4        treatment  What are the treatments for Lymphocytic Chorio...   \n",
       "\n",
       "                                              Answer  \n",
       "0  LCMV infections can occur after exposure to fr...  \n",
       "1  LCMV is most commonly recognized as causing ne...  \n",
       "2  Individuals of all ages who come into contact ...  \n",
       "3  During the first phase of the disease, the mos...  \n",
       "4  Aseptic meningitis, encephalitis, or meningoen...  "
      ]
     },
     "execution_count": 6,
     "metadata": {},
     "output_type": "execute_result"
    }
   ],
   "source": [
    "import pandas as pd\n",
    "dataset = pd.read_csv(\"medquad.csv\")\n",
    "dataset.head()"
   ]
  },
  {
   "cell_type": "code",
   "execution_count": 7,
   "id": "ab400bd0-50ce-4548-80a9-2f557176e389",
   "metadata": {},
   "outputs": [
    {
     "name": "stderr",
     "output_type": "stream",
     "text": [
      "/Users/samitkapadia/Desktop/Fall23/MED277/med277/lib/python3.11/site-packages/pinecone/index.py:4: TqdmExperimentalWarning: Using `tqdm.autonotebook.tqdm` in notebook mode. Use `tqdm.tqdm` instead to force console mode (e.g. in jupyter console)\n",
      "  from tqdm.autonotebook import tqdm\n"
     ]
    }
   ],
   "source": [
    "import pinecone\n",
    "\n",
    "pinecone.init(\n",
    "    api_key = os.environ[\"PINECONE_API_KEY_MAIN\"],\n",
    "    environment= os.environ[\"PINECONE_ENV\"]\n",
    ")"
   ]
  },
  {
   "cell_type": "code",
   "execution_count": 8,
   "id": "0215343c-c6b3-4901-a3f5-87e9e6d1d620",
   "metadata": {},
   "outputs": [],
   "source": [
    "# import time\n",
    "\n",
    "# index_name = 'med277-medquad'\n",
    "\n",
    "# if index_name not in pinecone.list_indexes():\n",
    "#     pinecone.create_index(\n",
    "#         index_name,\n",
    "#         dimension=1536,\n",
    "#         metric='cosine'\n",
    "#     )\n",
    "#     # wait for index to finish initialization\n",
    "#     while not pinecone.describe_index(index_name).status['ready']:\n",
    "#         time.sleep(1)\n",
    "\n",
    "# index = pinecone.Index(index_name)"
   ]
  },
  {
   "cell_type": "code",
   "execution_count": 9,
   "id": "1dbacf36-584d-41c8-99c5-b4dbd40312eb",
   "metadata": {},
   "outputs": [],
   "source": [
    "# from tqdm.auto import tqdm  # for progress bar\n",
    "\n",
    "# batch_size = 100\n",
    "# data = df\n",
    "# for i in tqdm(range(0, len(data), batch_size)):\n",
    "#     i_end = min(len(data), i+batch_size)\n",
    "#     # get batch of data\n",
    "#     batch = data.iloc[i:i_end]\n",
    "#     # generate unique ids for each chunk\n",
    "#     ids = [str(i) for i, _ in batch.iterrows()]\n",
    "#     # print(ids)\n",
    "#    # get text to embed\n",
    "#     question = [x['Question'] for _, x in batch.iterrows()]\n",
    "#     # answer = [x['Answer'] for _, x in batch.iterrows()]\n",
    "#     # qtype = [x['qtype'] for _, x in batch.iterrows()]\n",
    "#     # embed text\n",
    "#     embeds = embed_model.embed_documents(question)\n",
    "#     # get metadata to store in Pinecone\n",
    "#     metadata = [\n",
    "#         {'question': x['Question'],\n",
    "#          'qtype': x['qtype'],\n",
    "#          'answer': x['Answer']} for i, x in batch.iterrows()\n",
    "#     ]\n",
    "#     # add to Pinecone\n",
    "#     index.upsert(vectors=zip(ids, embeds, metadata))"
   ]
  },
  {
   "cell_type": "code",
   "execution_count": 10,
   "id": "90332349-a2e3-4b3e-b7ce-fd77a6a00b7c",
   "metadata": {},
   "outputs": [],
   "source": [
    "#I have already created a vector database\n",
    "index_name = 'med277-medquad'\n",
    "index = pinecone.Index(index_name)"
   ]
  },
  {
   "cell_type": "code",
   "execution_count": 11,
   "id": "bb8fbb0c-a890-49aa-8911-f2313a824151",
   "metadata": {},
   "outputs": [
    {
     "data": {
      "text/plain": [
       "{'dimension': 1536,\n",
       " 'index_fullness': 0.16407,\n",
       " 'namespaces': {'': {'vector_count': 16407}},\n",
       " 'total_vector_count': 16407}"
      ]
     },
     "execution_count": 11,
     "metadata": {},
     "output_type": "execute_result"
    }
   ],
   "source": [
    "index.describe_index_stats()"
   ]
  },
  {
   "cell_type": "code",
   "execution_count": 12,
   "id": "6cd3af25-a296-4c5a-93b3-a03a14e98c5c",
   "metadata": {},
   "outputs": [],
   "source": [
    "from langchain.embeddings.openai import OpenAIEmbeddings\n",
    "embed_model = OpenAIEmbeddings(model=\"text-embedding-ada-002\")"
   ]
  },
  {
   "cell_type": "code",
   "execution_count": 13,
   "id": "8df4f06e-8c9d-4be7-9978-980f198dbccb",
   "metadata": {},
   "outputs": [
    {
     "name": "stderr",
     "output_type": "stream",
     "text": [
      "/Users/samitkapadia/Desktop/Fall23/MED277/med277/lib/python3.11/site-packages/langchain/vectorstores/pinecone.py:59: UserWarning: Passing in `embedding` as a Callable is deprecated. Please pass in an Embeddings object instead.\n",
      "  warnings.warn(\n"
     ]
    }
   ],
   "source": [
    "from langchain.vectorstores import Pinecone\n",
    "\n",
    "text_field = \"question\"  # the metadata field that contains our text\n",
    "\n",
    "# initialize the vector store object\n",
    "vectorstore = Pinecone(\n",
    "    index, embed_model.embed_query, text_field\n",
    ")"
   ]
  },
  {
   "cell_type": "code",
   "execution_count": 14,
   "id": "a3bb14ca-26aa-4b57-b22a-3249e7d8dfb5",
   "metadata": {},
   "outputs": [
    {
     "data": {
      "text/plain": [
       "[Document(page_content='Who is at risk for Lymphocytic Choriomeningitis (LCM)? ?', metadata={'answer': 'LCMV infections can occur after exposure to fresh urine, droppings, saliva, or nesting materials from infected rodents.  Transmission may also occur when these materials are directly introduced into broken skin, the nose, the eyes, or the mouth, or presumably, via the bite of an infected rodent. Person-to-person transmission has not been reported, with the exception of vertical transmission from infected mother to fetus, and rarely, through organ transplantation.', 'qtype': 'susceptibility'}),\n",
       " Document(page_content='Who is at risk for Lymphocytic Choriomeningitis (LCM)? ?', metadata={'answer': 'Individuals of all ages who come into contact with urine, feces, saliva, or blood of wild mice are potentially at risk for infection. Owners of pet mice or hamsters may be at risk for infection if these animals originate from colonies that were contaminated with LCMV, or if their animals are infected from other wild mice. Human fetuses are at risk of acquiring infection vertically from an infected mother. \\n                \\nLaboratory workers who work with the virus or handle infected animals are also at risk. However, this risk can be minimized by utilizing animals from sources that regularly test for the virus, wearing proper protective laboratory gear, and following appropriate safety precautions.', 'qtype': 'susceptibility'}),\n",
       " Document(page_content='What are the symptoms of Lymphocytic Choriomeningitis (LCM) ?', metadata={'answer': 'LCMV is most commonly recognized as causing neurological disease, as its name implies, though infection without symptoms or mild febrile illnesses are more common clinical manifestations. \\n                \\nFor infected persons who do become ill, onset of symptoms usually occurs 8-13 days after exposure to the virus as part of a biphasic febrile illness. This initial phase, which may last as long as a week, typically begins with any or all of the following symptoms: fever, malaise, lack of appetite, muscle aches, headache, nausea, and vomiting. Other symptoms appearing less frequently include sore throat, cough, joint pain, chest pain, testicular pain, and parotid (salivary gland) pain. \\n                \\nFollowing a few days of recovery, a second phase of illness may occur. Symptoms may consist of meningitis (fever, headache, stiff neck, etc.), encephalitis (drowsiness, confusion, sensory disturbances, and/or motor abnormalities, such as paralysis), or meningoencephalitis (inflammation of both the brain and meninges). LCMV has also been known to cause acute hydrocephalus (increased fluid on the brain), which often requires surgical shunting to relieve increased intracranial pressure. In rare instances, infection results in myelitis (inflammation of the spinal cord) and presents with symptoms such as muscle weakness, paralysis, or changes in body sensation. An association between LCMV infection and myocarditis (inflammation of the heart muscles) has been suggested. \\n                \\nPrevious observations show that most patients who develop aseptic meningitis or encephalitis due to LCMV survive. No chronic infection has been described in humans, and after the acute phase of illness, the virus is cleared from the body. However, as in all infections of the central nervous system, particularly encephalitis, temporary or permanent neurological damage is possible. Nerve deafness and arthritis have been reported. \\n                \\nWomen who become infected with LCMV during pregnancy may pass the infection on to the fetus. Infections occurring during the first trimester may result in fetal death and pregnancy termination, while in the second and third trimesters, birth defects can develop. Infants infected In utero can have many serious and permanent birth defects, including vision problems, mental retardation, and hydrocephaly (water on the brain). Pregnant women may recall a flu-like illness during pregnancy, or may not recall any illness. \\n                \\nLCM is usually not fatal. In general, mortality is less than 1%.', 'qtype': 'symptoms'})]"
      ]
     },
     "execution_count": 14,
     "metadata": {},
     "output_type": "execute_result"
    }
   ],
   "source": [
    "query = \"Who is at risk for Lymphocytic Choriomeningitis (LCM)?\"\n",
    "vectorstore.similarity_search(query, k=3)"
   ]
  },
  {
   "cell_type": "code",
   "execution_count": 15,
   "id": "f0ec3bac-c1b7-4b2a-8e9b-33333049673d",
   "metadata": {},
   "outputs": [],
   "source": [
    "def augment_prompt(query: str):\n",
    "    # get top 3 results from knowledge base\n",
    "    results = vectorstore.similarity_search(query, k=3)\n",
    "    # get the text from the results\n",
    "    source_knowledge = \"\\n\".join([x.page_content for x in results])\n",
    "    # feed into an augmented prompt\n",
    "    augmented_prompt = f\"\"\"Using the contexts below, answer the query.\n",
    "\n",
    "    Contexts:\n",
    "    {source_knowledge}\n",
    "\n",
    "    Query: {query}\"\"\"\n",
    "    return augmented_prompt"
   ]
  },
  {
   "cell_type": "code",
   "execution_count": 16,
   "id": "f5ca1f52-5582-4488-a53a-36a70f4a6e75",
   "metadata": {},
   "outputs": [],
   "source": [
    "!pip install -q gradio"
   ]
  },
  {
   "cell_type": "code",
   "execution_count": 17,
   "id": "c60553aa-afa9-4f45-9af0-59962bc20252",
   "metadata": {},
   "outputs": [],
   "source": [
    "import gradio as gr\n",
    "import openai\n",
    "from langchain.llms import OpenAI"
   ]
  },
  {
   "cell_type": "code",
   "execution_count": 18,
   "id": "5401ce69-fb2c-4056-9d56-80aaa9f8fa17",
   "metadata": {},
   "outputs": [],
   "source": [
    "def unified_process(input_data):\n",
    "    my_key = os.environ[\"OPENAI_API_KEY\"]\n",
    "    openai.api_key = my_key\n",
    "    llm = OpenAI(temperature=1, openai_api_key=my_key)\n",
    "    augmented_prompt = augment_prompt(input_data)\n",
    "    return llm(augmented_prompt)"
   ]
  },
  {
   "cell_type": "code",
   "execution_count": 19,
   "id": "844a90a5-eb43-43d9-9b98-e3e822e3a8b6",
   "metadata": {},
   "outputs": [],
   "source": [
    "demo = gr.Interface(\n",
    "    fn=unified_process,\n",
    "    inputs = [gr.Textbox(placeholder=\"Paste text here...\")],\n",
    "    outputs=\"text\")"
   ]
  },
  {
   "cell_type": "code",
   "execution_count": 20,
   "id": "a449290f-c0c1-48ab-84c6-245b5a5574f7",
   "metadata": {},
   "outputs": [
    {
     "name": "stdout",
     "output_type": "stream",
     "text": [
      "Running on local URL:  http://127.0.0.1:7860\n",
      "\n",
      "To create a public link, set `share=True` in `launch()`.\n"
     ]
    },
    {
     "data": {
      "text/html": [
       "<div><iframe src=\"http://127.0.0.1:7860/\" width=\"100%\" height=\"500\" allow=\"autoplay; camera; microphone; clipboard-read; clipboard-write;\" frameborder=\"0\" allowfullscreen></iframe></div>"
      ],
      "text/plain": [
       "<IPython.core.display.HTML object>"
      ]
     },
     "metadata": {},
     "output_type": "display_data"
    },
    {
     "data": {
      "text/plain": []
     },
     "execution_count": 20,
     "metadata": {},
     "output_type": "execute_result"
    }
   ],
   "source": [
    "demo.launch()"
   ]
  },
  {
   "cell_type": "code",
   "execution_count": 21,
   "id": "c5e15db4-20b5-415c-a1f6-d8643b725aca",
   "metadata": {},
   "outputs": [
    {
     "data": {
      "text/plain": [
       "'Individuals of all ages who come into contact with urine, feces, saliva, or blood of wild mice are potentially at risk for infection. Owners of pet mice or hamsters may be at risk for infection if these animals originate from colonies that were contaminated with LCMV, or if their animals are infected from other wild mice. Human fetuses are at risk of acquiring infection vertically from an infected mother. \\n                \\nLaboratory workers who work with the virus or handle infected animals are also at risk. However, this risk can be minimized by utilizing animals from sources that regularly test for the virus, wearing proper protective laboratory gear, and following appropriate safety precautions.'"
      ]
     },
     "execution_count": 21,
     "metadata": {},
     "output_type": "execute_result"
    }
   ],
   "source": [
    "dataset['Answer'][2]"
   ]
  },
  {
   "cell_type": "code",
   "execution_count": null,
   "id": "b870c226-25db-41d4-a5e0-33dda66faf9f",
   "metadata": {},
   "outputs": [],
   "source": []
  }
 ],
 "metadata": {
  "kernelspec": {
   "display_name": "Python 3 (ipykernel)",
   "language": "python",
   "name": "python3"
  },
  "language_info": {
   "codemirror_mode": {
    "name": "ipython",
    "version": 3
   },
   "file_extension": ".py",
   "mimetype": "text/x-python",
   "name": "python",
   "nbconvert_exporter": "python",
   "pygments_lexer": "ipython3",
   "version": "3.11.6"
  }
 },
 "nbformat": 4,
 "nbformat_minor": 5
}
