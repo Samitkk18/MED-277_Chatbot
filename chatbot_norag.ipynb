{
 "cells": [
  {
   "cell_type": "code",
   "execution_count": 1,
   "id": "28d3bee8-8673-4cca-ac45-5e0851ca4317",
   "metadata": {
    "scrolled": true
   },
   "outputs": [
    {
     "name": "stdout",
     "output_type": "stream",
     "text": [
      "Requirement already satisfied: cohere in /Users/samitkapadia/Desktop/Fall23/MED277/med277/lib/python3.11/site-packages (from -r requirements.txt (line 1)) (4.37)\n",
      "Requirement already satisfied: langchain==0.0.292 in /Users/samitkapadia/Desktop/Fall23/MED277/med277/lib/python3.11/site-packages (from -r requirements.txt (line 2)) (0.0.292)\n",
      "Requirement already satisfied: openai==0.28.0 in /Users/samitkapadia/Desktop/Fall23/MED277/med277/lib/python3.11/site-packages (from -r requirements.txt (line 3)) (0.28.0)\n",
      "Requirement already satisfied: datasets==2.10.1 in /Users/samitkapadia/Desktop/Fall23/MED277/med277/lib/python3.11/site-packages (from -r requirements.txt (line 4)) (2.10.1)\n",
      "Requirement already satisfied: pinecone-client==2.2.4 in /Users/samitkapadia/Desktop/Fall23/MED277/med277/lib/python3.11/site-packages (from -r requirements.txt (line 5)) (2.2.4)\n",
      "Requirement already satisfied: tiktoken==0.5.1 in /Users/samitkapadia/Desktop/Fall23/MED277/med277/lib/python3.11/site-packages (from -r requirements.txt (line 6)) (0.5.1)\n",
      "Requirement already satisfied: python-dotenv in /Users/samitkapadia/Desktop/Fall23/MED277/med277/lib/python3.11/site-packages (from -r requirements.txt (line 7)) (1.0.0)\n",
      "Requirement already satisfied: PyYAML>=5.3 in /Users/samitkapadia/Desktop/Fall23/MED277/med277/lib/python3.11/site-packages (from langchain==0.0.292->-r requirements.txt (line 2)) (6.0)\n",
      "Requirement already satisfied: SQLAlchemy<3,>=1.4 in /Users/samitkapadia/Desktop/Fall23/MED277/med277/lib/python3.11/site-packages (from langchain==0.0.292->-r requirements.txt (line 2)) (2.0.23)\n",
      "Requirement already satisfied: aiohttp<4.0.0,>=3.8.3 in /Users/samitkapadia/Desktop/Fall23/MED277/med277/lib/python3.11/site-packages (from langchain==0.0.292->-r requirements.txt (line 2)) (3.9.1)\n",
      "Requirement already satisfied: dataclasses-json<0.6.0,>=0.5.7 in /Users/samitkapadia/Desktop/Fall23/MED277/med277/lib/python3.11/site-packages (from langchain==0.0.292->-r requirements.txt (line 2)) (0.5.14)\n",
      "Requirement already satisfied: langsmith<0.1.0,>=0.0.21 in /Users/samitkapadia/Desktop/Fall23/MED277/med277/lib/python3.11/site-packages (from langchain==0.0.292->-r requirements.txt (line 2)) (0.0.69)\n",
      "Requirement already satisfied: numexpr<3.0.0,>=2.8.4 in /Users/samitkapadia/Desktop/Fall23/MED277/med277/lib/python3.11/site-packages (from langchain==0.0.292->-r requirements.txt (line 2)) (2.8.7)\n",
      "Requirement already satisfied: numpy<2,>=1 in /Users/samitkapadia/Desktop/Fall23/MED277/med277/lib/python3.11/site-packages (from langchain==0.0.292->-r requirements.txt (line 2)) (1.26.1)\n",
      "Requirement already satisfied: pydantic<3,>=1 in /Users/samitkapadia/Desktop/Fall23/MED277/med277/lib/python3.11/site-packages (from langchain==0.0.292->-r requirements.txt (line 2)) (1.10.13)\n",
      "Requirement already satisfied: requests<3,>=2 in /Users/samitkapadia/Desktop/Fall23/MED277/med277/lib/python3.11/site-packages (from langchain==0.0.292->-r requirements.txt (line 2)) (2.31.0)\n",
      "Requirement already satisfied: tenacity<9.0.0,>=8.1.0 in /Users/samitkapadia/Desktop/Fall23/MED277/med277/lib/python3.11/site-packages (from langchain==0.0.292->-r requirements.txt (line 2)) (8.2.3)\n",
      "Requirement already satisfied: tqdm in /Users/samitkapadia/Desktop/Fall23/MED277/med277/lib/python3.11/site-packages (from openai==0.28.0->-r requirements.txt (line 3)) (4.66.1)\n",
      "Requirement already satisfied: pyarrow>=6.0.0 in /Users/samitkapadia/Desktop/Fall23/MED277/med277/lib/python3.11/site-packages (from datasets==2.10.1->-r requirements.txt (line 4)) (14.0.1)\n",
      "Requirement already satisfied: dill<0.3.7,>=0.3.0 in /Users/samitkapadia/Desktop/Fall23/MED277/med277/lib/python3.11/site-packages (from datasets==2.10.1->-r requirements.txt (line 4)) (0.3.6)\n",
      "Requirement already satisfied: pandas in /Users/samitkapadia/Desktop/Fall23/MED277/med277/lib/python3.11/site-packages (from datasets==2.10.1->-r requirements.txt (line 4)) (2.1.2)\n",
      "Requirement already satisfied: xxhash in /Users/samitkapadia/Desktop/Fall23/MED277/med277/lib/python3.11/site-packages (from datasets==2.10.1->-r requirements.txt (line 4)) (3.4.1)\n",
      "Requirement already satisfied: multiprocess in /Users/samitkapadia/Desktop/Fall23/MED277/med277/lib/python3.11/site-packages (from datasets==2.10.1->-r requirements.txt (line 4)) (0.70.14)\n",
      "Requirement already satisfied: fsspec>=2021.11.1 in /Users/samitkapadia/Desktop/Fall23/MED277/med277/lib/python3.11/site-packages (from fsspec[http]>=2021.11.1->datasets==2.10.1->-r requirements.txt (line 4)) (2023.10.0)\n",
      "Requirement already satisfied: huggingface-hub<1.0.0,>=0.2.0 in /Users/samitkapadia/Desktop/Fall23/MED277/med277/lib/python3.11/site-packages (from datasets==2.10.1->-r requirements.txt (line 4)) (0.19.4)\n",
      "Requirement already satisfied: packaging in /Users/samitkapadia/Desktop/Fall23/MED277/med277/lib/python3.11/site-packages (from datasets==2.10.1->-r requirements.txt (line 4)) (23.2)\n",
      "Requirement already satisfied: responses<0.19 in /Users/samitkapadia/Desktop/Fall23/MED277/med277/lib/python3.11/site-packages (from datasets==2.10.1->-r requirements.txt (line 4)) (0.18.0)\n",
      "Requirement already satisfied: loguru>=0.5.0 in /Users/samitkapadia/Desktop/Fall23/MED277/med277/lib/python3.11/site-packages (from pinecone-client==2.2.4->-r requirements.txt (line 5)) (0.7.2)\n",
      "Requirement already satisfied: typing-extensions>=3.7.4 in /Users/samitkapadia/Desktop/Fall23/MED277/med277/lib/python3.11/site-packages (from pinecone-client==2.2.4->-r requirements.txt (line 5)) (4.8.0)\n",
      "Requirement already satisfied: dnspython>=2.0.0 in /Users/samitkapadia/Desktop/Fall23/MED277/med277/lib/python3.11/site-packages (from pinecone-client==2.2.4->-r requirements.txt (line 5)) (2.4.2)\n",
      "Requirement already satisfied: python-dateutil>=2.5.3 in /Users/samitkapadia/Desktop/Fall23/MED277/med277/lib/python3.11/site-packages (from pinecone-client==2.2.4->-r requirements.txt (line 5)) (2.8.2)\n",
      "Requirement already satisfied: urllib3>=1.21.1 in /Users/samitkapadia/Desktop/Fall23/MED277/med277/lib/python3.11/site-packages (from pinecone-client==2.2.4->-r requirements.txt (line 5)) (2.0.7)\n",
      "Requirement already satisfied: regex>=2022.1.18 in /Users/samitkapadia/Desktop/Fall23/MED277/med277/lib/python3.11/site-packages (from tiktoken==0.5.1->-r requirements.txt (line 6)) (2023.10.3)\n",
      "Requirement already satisfied: backoff<3.0,>=2.0 in /Users/samitkapadia/Desktop/Fall23/MED277/med277/lib/python3.11/site-packages (from cohere->-r requirements.txt (line 1)) (2.2.1)\n",
      "Requirement already satisfied: fastavro<2.0,>=1.8 in /Users/samitkapadia/Desktop/Fall23/MED277/med277/lib/python3.11/site-packages (from cohere->-r requirements.txt (line 1)) (1.9.0)\n",
      "Requirement already satisfied: importlib_metadata<7.0,>=6.0 in /Users/samitkapadia/Desktop/Fall23/MED277/med277/lib/python3.11/site-packages (from cohere->-r requirements.txt (line 1)) (6.11.0)\n",
      "Requirement already satisfied: attrs>=17.3.0 in /Users/samitkapadia/Desktop/Fall23/MED277/med277/lib/python3.11/site-packages (from aiohttp<4.0.0,>=3.8.3->langchain==0.0.292->-r requirements.txt (line 2)) (23.1.0)\n",
      "Requirement already satisfied: multidict<7.0,>=4.5 in /Users/samitkapadia/Desktop/Fall23/MED277/med277/lib/python3.11/site-packages (from aiohttp<4.0.0,>=3.8.3->langchain==0.0.292->-r requirements.txt (line 2)) (6.0.4)\n",
      "Requirement already satisfied: yarl<2.0,>=1.0 in /Users/samitkapadia/Desktop/Fall23/MED277/med277/lib/python3.11/site-packages (from aiohttp<4.0.0,>=3.8.3->langchain==0.0.292->-r requirements.txt (line 2)) (1.9.3)\n",
      "Requirement already satisfied: frozenlist>=1.1.1 in /Users/samitkapadia/Desktop/Fall23/MED277/med277/lib/python3.11/site-packages (from aiohttp<4.0.0,>=3.8.3->langchain==0.0.292->-r requirements.txt (line 2)) (1.4.0)\n",
      "Requirement already satisfied: aiosignal>=1.1.2 in /Users/samitkapadia/Desktop/Fall23/MED277/med277/lib/python3.11/site-packages (from aiohttp<4.0.0,>=3.8.3->langchain==0.0.292->-r requirements.txt (line 2)) (1.3.1)\n",
      "Requirement already satisfied: marshmallow<4.0.0,>=3.18.0 in /Users/samitkapadia/Desktop/Fall23/MED277/med277/lib/python3.11/site-packages (from dataclasses-json<0.6.0,>=0.5.7->langchain==0.0.292->-r requirements.txt (line 2)) (3.20.1)\n",
      "Requirement already satisfied: typing-inspect<1,>=0.4.0 in /Users/samitkapadia/Desktop/Fall23/MED277/med277/lib/python3.11/site-packages (from dataclasses-json<0.6.0,>=0.5.7->langchain==0.0.292->-r requirements.txt (line 2)) (0.9.0)\n",
      "Requirement already satisfied: filelock in /Users/samitkapadia/Desktop/Fall23/MED277/med277/lib/python3.11/site-packages (from huggingface-hub<1.0.0,>=0.2.0->datasets==2.10.1->-r requirements.txt (line 4)) (3.13.1)\n",
      "Requirement already satisfied: zipp>=0.5 in /Users/samitkapadia/Desktop/Fall23/MED277/med277/lib/python3.11/site-packages (from importlib_metadata<7.0,>=6.0->cohere->-r requirements.txt (line 1)) (3.17.0)\n",
      "Requirement already satisfied: six>=1.5 in /Users/samitkapadia/Desktop/Fall23/MED277/med277/lib/python3.11/site-packages (from python-dateutil>=2.5.3->pinecone-client==2.2.4->-r requirements.txt (line 5)) (1.16.0)\n",
      "Requirement already satisfied: charset-normalizer<4,>=2 in /Users/samitkapadia/Desktop/Fall23/MED277/med277/lib/python3.11/site-packages (from requests<3,>=2->langchain==0.0.292->-r requirements.txt (line 2)) (3.3.2)\n",
      "Requirement already satisfied: idna<4,>=2.5 in /Users/samitkapadia/Desktop/Fall23/MED277/med277/lib/python3.11/site-packages (from requests<3,>=2->langchain==0.0.292->-r requirements.txt (line 2)) (3.4)\n",
      "Requirement already satisfied: certifi>=2017.4.17 in /Users/samitkapadia/Desktop/Fall23/MED277/med277/lib/python3.11/site-packages (from requests<3,>=2->langchain==0.0.292->-r requirements.txt (line 2)) (2023.7.22)\n",
      "Requirement already satisfied: pytz>=2020.1 in /Users/samitkapadia/Desktop/Fall23/MED277/med277/lib/python3.11/site-packages (from pandas->datasets==2.10.1->-r requirements.txt (line 4)) (2023.3.post1)\n",
      "Requirement already satisfied: tzdata>=2022.1 in /Users/samitkapadia/Desktop/Fall23/MED277/med277/lib/python3.11/site-packages (from pandas->datasets==2.10.1->-r requirements.txt (line 4)) (2023.3)\n",
      "Requirement already satisfied: mypy-extensions>=0.3.0 in /Users/samitkapadia/Desktop/Fall23/MED277/med277/lib/python3.11/site-packages (from typing-inspect<1,>=0.4.0->dataclasses-json<0.6.0,>=0.5.7->langchain==0.0.292->-r requirements.txt (line 2)) (1.0.0)\n"
     ]
    }
   ],
   "source": [
    "!pip install -r requirements.txt"
   ]
  },
  {
   "cell_type": "code",
   "execution_count": 2,
   "id": "d6ec7f0f-a5a2-4ff2-9888-e03b4e384ed1",
   "metadata": {},
   "outputs": [],
   "source": [
    "import os\n",
    "from langchain.chat_models import ChatOpenAI\n",
    "from dotenv import load_dotenv"
   ]
  },
  {
   "cell_type": "code",
   "execution_count": 3,
   "id": "8487f9c6-6287-485e-abca-dd11eb8d20d6",
   "metadata": {},
   "outputs": [
    {
     "data": {
      "text/plain": [
       "True"
      ]
     },
     "execution_count": 3,
     "metadata": {},
     "output_type": "execute_result"
    }
   ],
   "source": [
    "load_dotenv()"
   ]
  },
  {
   "cell_type": "code",
   "execution_count": 4,
   "id": "5315eaf7-4c70-4860-9490-090b980f8c41",
   "metadata": {},
   "outputs": [],
   "source": [
    "chat = ChatOpenAI(\n",
    "    openai_api_key=os.environ[\"OPENAI_API_KEY\"],\n",
    "    model='gpt-3.5-turbo'\n",
    ")"
   ]
  },
  {
   "cell_type": "code",
   "execution_count": 5,
   "id": "de882651-e22e-42c5-a300-879403f52176",
   "metadata": {},
   "outputs": [],
   "source": [
    "from langchain.schema import (\n",
    "    SystemMessage,\n",
    "    HumanMessage,\n",
    "    AIMessage\n",
    ")\n",
    "\n",
    "messages = [\n",
    "    SystemMessage(content=\"You are a helpful assistant.\"),\n",
    "    HumanMessage(content=\"Hi AI, how are you today?\"),\n",
    "    AIMessage(content=\"I'm great thank you. How can I help you?\"),\n",
    "    HumanMessage(content=\"What is MEDITRON?\")\n",
    "]"
   ]
  },
  {
   "cell_type": "code",
   "execution_count": 6,
   "id": "4a01814b-5213-42f5-a5ae-95fa4a764c4c",
   "metadata": {},
   "outputs": [
    {
     "data": {
      "text/plain": [
       "AIMessage(content='Meditron is a fictional character that appears in various forms of media, such as movies, TV shows, and video games. In some contexts, Meditron is portrayed as a powerful and advanced artificial intelligence or robot with a range of abilities and functions. However, please note that the specifics of Meditron can vary depending on the fictional universe in which it exists. Is there anything else you would like to know about Meditron?', additional_kwargs={}, example=False)"
      ]
     },
     "execution_count": 6,
     "metadata": {},
     "output_type": "execute_result"
    }
   ],
   "source": [
    "res = chat(messages)\n",
    "res"
   ]
  },
  {
   "cell_type": "code",
   "execution_count": 7,
   "id": "f3615181-74c8-4a6d-9cbd-6019ac2ba84e",
   "metadata": {},
   "outputs": [
    {
     "name": "stdout",
     "output_type": "stream",
     "text": [
      "Meditron is a fictional character that appears in various forms of media, such as movies, TV shows, and video games. In some contexts, Meditron is portrayed as a powerful and advanced artificial intelligence or robot with a range of abilities and functions. However, please note that the specifics of Meditron can vary depending on the fictional universe in which it exists. Is there anything else you would like to know about Meditron?\n"
     ]
    }
   ],
   "source": [
    "print(res.content)"
   ]
  },
  {
   "cell_type": "code",
   "execution_count": 8,
   "id": "80109eec-aca9-4036-b677-48a29d1e9e79",
   "metadata": {},
   "outputs": [
    {
     "name": "stdout",
     "output_type": "stream",
     "text": [
      "I'm sorry, but as an AI language model, I don't have access to real-time medical data or individual patient information. My knowledge is based on general information available up until September 2021. It would be best to consult with a medical professional or conduct further research to obtain the most accurate and up-to-date information regarding the biggest grade 2 myxopapillary ependymoma tumor ever detected. They would be able to provide you with more specific and reliable information.\n"
     ]
    }
   ],
   "source": [
    "# add latest AI response to messages\n",
    "messages.append(res)\n",
    "\n",
    "# now create a new user prompt\n",
    "prompt = HumanMessage(\n",
    "    content=\"what is the biggest grade 2 myxopapillary ependymoma tumor ever detected?\"\n",
    ")\n",
    "# add to messages\n",
    "messages = (prompt)\n",
    "\n",
    "# send to chat-gpt\n",
    "res = chat(messages)\n",
    "\n",
    "print(res.content)"
   ]
  },
  {
   "cell_type": "code",
   "execution_count": null,
   "id": "2e0ce9f3-a871-4b28-a167-4894ec1ee3ad",
   "metadata": {},
   "outputs": [],
   "source": []
  }
 ],
 "metadata": {
  "kernelspec": {
   "display_name": "Python 3 (ipykernel)",
   "language": "python",
   "name": "python3"
  },
  "language_info": {
   "codemirror_mode": {
    "name": "ipython",
    "version": 3
   },
   "file_extension": ".py",
   "mimetype": "text/x-python",
   "name": "python",
   "nbconvert_exporter": "python",
   "pygments_lexer": "ipython3",
   "version": "3.11.6"
  }
 },
 "nbformat": 4,
 "nbformat_minor": 5
}
